{
 "cells": [
  {
   "cell_type": "code",
   "execution_count": null,
   "id": "confused-renaissance",
   "metadata": {},
   "outputs": [],
   "source": [
    "import pandas as pd\n",
    "data = pd.read_csv('sensor_data_200.txt', delimiter=' ',\n",
    "                  header=None, names=('date','time','ir','lidar'))\n",
    "data"
   ]
  },
  {
   "cell_type": "code",
   "execution_count": null,
   "id": "recent-bacteria",
   "metadata": {},
   "outputs": [],
   "source": [
    "print(data['lidar'][0:5])"
   ]
  },
  {
   "cell_type": "code",
   "execution_count": null,
   "id": "divine-maria",
   "metadata": {},
   "outputs": [],
   "source": [
    "import matplotlib.pyplot as plt\n",
    "data['lidar'].hist(bins=max(data['lidar'])-min(data['lidar']),align='left')\n",
    "plt.show()"
   ]
  },
  {
   "cell_type": "code",
   "execution_count": null,
   "id": "handy-flavor",
   "metadata": {},
   "outputs": [],
   "source": [
    "mean1 = sum(data['lidar'])/len(data['lidar'])\n",
    "mean2 = data['lidar'].mean()\n",
    "print(mean1, mean2)"
   ]
  },
  {
   "cell_type": "code",
   "execution_count": null,
   "id": "million-forth",
   "metadata": {},
   "outputs": [],
   "source": [
    "data['lidar'].hist(bins=max(data['lidar'])-min(data['lidar']),color='orange',align='left')\n",
    "plt.vlines(mean1,ymin=0,ymax=5000,color='red')\n",
    "plt.show()"
   ]
  },
  {
   "cell_type": "code",
   "execution_count": null,
   "id": "historic-start",
   "metadata": {},
   "outputs": [],
   "source": [
    "zs = data['lidar'].values\n",
    "mean = sum(zs)/len(zs)\n",
    "diff_square = [(z-mean)**2 for z in zs]\n",
    "\n",
    "sampling_var = sum(diff_square)/len(zs)\n",
    "unbiased_var = sum(diff_square)/(len(zs)-1)\n",
    "\n",
    "print(sampling_var)\n",
    "print(unbiased_var)"
   ]
  },
  {
   "cell_type": "code",
   "execution_count": null,
   "id": "express-vermont",
   "metadata": {},
   "outputs": [],
   "source": [
    "pandas_sampling_var = data['lidar'].var(ddof=0)\n",
    "pandas_default_var = data['lidar'].var()\n",
    "\n",
    "print(pandas_sampling_var)\n",
    "print(pandas_default_var)"
   ]
  },
  {
   "cell_type": "code",
   "execution_count": null,
   "id": "critical-costa",
   "metadata": {},
   "outputs": [],
   "source": [
    "import numpy as np\n",
    "\n",
    "numpy_default_var = np.var(data['lidar'])\n",
    "numpy_unbiased_var = np.var(data['lidar'],ddof=1)\n",
    "\n",
    "print(numpy_default_var)\n",
    "print(numpy_unbiased_var)"
   ]
  },
  {
   "cell_type": "code",
   "execution_count": null,
   "id": "interior-rhythm",
   "metadata": {},
   "outputs": [],
   "source": [
    "import math\n",
    "\n",
    "stddev1 = math.sqrt(sampling_var)\n",
    "stddev2 = math.sqrt(unbiased_var)\n",
    "\n",
    "pandas_stddev = data['lidar'].std()\n",
    "\n",
    "print(stddev1)\n",
    "print(stddev2)\n",
    "print(pandas_stddev)"
   ]
  },
  {
   "cell_type": "code",
   "execution_count": null,
   "id": "animal-divorce",
   "metadata": {},
   "outputs": [],
   "source": [
    "freqs = pd.DataFrame(data['lidar'].value_counts())\n",
    "freqs.transpose()"
   ]
  },
  {
   "cell_type": "code",
   "execution_count": null,
   "id": "fitted-electron",
   "metadata": {},
   "outputs": [],
   "source": [
    "freqs['probs'] = freqs['lidar']/len(data['lidar'])\n",
    "freqs.transpose()"
   ]
  },
  {
   "cell_type": "code",
   "execution_count": null,
   "id": "thick-nutrition",
   "metadata": {},
   "outputs": [],
   "source": [
    "sum(freqs['probs'])"
   ]
  },
  {
   "cell_type": "code",
   "execution_count": null,
   "id": "hired-iraqi",
   "metadata": {},
   "outputs": [],
   "source": [
    "freqs['probs'].sort_index().plot.bar()\n",
    "plt.show()"
   ]
  },
  {
   "cell_type": "code",
   "execution_count": null,
   "id": "broadband-rendering",
   "metadata": {},
   "outputs": [],
   "source": [
    "def drawing():\n",
    "    return freqs.sample(n=1,weights='probs').index[0]\n",
    "\n",
    "drawing()"
   ]
  },
  {
   "cell_type": "code",
   "execution_count": null,
   "id": "medium-lancaster",
   "metadata": {},
   "outputs": [],
   "source": [
    "samples = [drawing() for i in range(len(data))]\n",
    "simlated = pd.DataFrame(samples, columns=['lidar'])\n",
    "p = simlated['lidar']\n",
    "p.hist(bins=max(p)-min(p),color='orange',align='left')\n",
    "plt.show()"
   ]
  },
  {
   "cell_type": "code",
   "execution_count": null,
   "id": "technological-threat",
   "metadata": {},
   "outputs": [],
   "source": []
  }
 ],
 "metadata": {
  "kernelspec": {
   "display_name": "Python 3",
   "language": "python",
   "name": "python3"
  },
  "language_info": {
   "codemirror_mode": {
    "name": "ipython",
    "version": 3
   },
   "file_extension": ".py",
   "mimetype": "text/x-python",
   "name": "python",
   "nbconvert_exporter": "python",
   "pygments_lexer": "ipython3",
   "version": "3.8.6"
  }
 },
 "nbformat": 4,
 "nbformat_minor": 5
}
