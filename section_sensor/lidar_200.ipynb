{
 "cells": [
  {
   "cell_type": "code",
   "execution_count": null,
   "id": "quick-connecticut",
   "metadata": {},
   "outputs": [],
   "source": [
    "import pandas as pd\n",
    "data = pd.read_csv('sensor_data_200.txt', delimiter=' ',\n",
    "                  header=None, names=('date','time','ir','lidar'))\n",
    "data"
   ]
  },
  {
   "cell_type": "code",
   "execution_count": null,
   "id": "secure-dress",
   "metadata": {},
   "outputs": [],
   "source": [
    "print(data['lidar'][0:5])"
   ]
  },
  {
   "cell_type": "code",
   "execution_count": null,
   "id": "lesser-color",
   "metadata": {},
   "outputs": [],
   "source": [
    "import matplotlib.pyplot as plt\n",
    "data['lidar'].hist(bins=max(data['lidar'])-min(data['lidar']),align='left')\n",
    "plt.show()"
   ]
  },
  {
   "cell_type": "code",
   "execution_count": null,
   "id": "fifth-advertiser",
   "metadata": {},
   "outputs": [],
   "source": [
    "mean1 = sum(data['lidar'])/len(data['lidar'])\n",
    "mean2 = data['lidar'].mean()\n",
    "print(mean1, mean2)"
   ]
  },
  {
   "cell_type": "code",
   "execution_count": null,
   "id": "bridal-passage",
   "metadata": {},
   "outputs": [],
   "source": [
    "data['lidar'].hist(bins=max(data['lidar'])-min(data['lidar']),color='orange',align='left')\n",
    "plt.vlines(mean1,ymin=0,ymax=5000,color='red')\n",
    "plt.show()"
   ]
  },
  {
   "cell_type": "code",
   "execution_count": null,
   "id": "valuable-concern",
   "metadata": {},
   "outputs": [],
   "source": [
    "zs = data['lidar'].values\n",
    "mean = sum(zs)/len(zs)\n",
    "diff_square = [(z-mean)**2 for z in zs]\n",
    "\n",
    "sampling_var = sum(diff_square)/len(zs)\n",
    "unbiased_var = sum(diff_square)/(len(zs)-1)\n",
    "\n",
    "print(sampling_var)\n",
    "print(unbiased_var)"
   ]
  },
  {
   "cell_type": "code",
   "execution_count": null,
   "id": "judicial-attack",
   "metadata": {},
   "outputs": [],
   "source": [
    "pandas_sampling_var = data['lidar'].var(ddof=0)\n",
    "pandas_default_var = data['lidar'].var()\n",
    "\n",
    "print(pandas_sampling_var)\n",
    "print(pandas_default_var)"
   ]
  },
  {
   "cell_type": "code",
   "execution_count": null,
   "id": "standard-assignment",
   "metadata": {},
   "outputs": [],
   "source": [
    "import numpy as np\n",
    "\n",
    "numpy_default_var = np.var(data['lidar'])\n",
    "numpy_unbiased_var = np.var(data['lidar'],ddof=1)\n",
    "\n",
    "print(numpy_default_var)\n",
    "print(numpy_unbiased_var)"
   ]
  },
  {
   "cell_type": "code",
   "execution_count": null,
   "id": "floppy-might",
   "metadata": {},
   "outputs": [],
   "source": [
    "import math\n",
    "\n",
    "stddev1 = math.sqrt(sampling_var)\n",
    "stddev2 = math.sqrt(unbiased_var)\n",
    "\n",
    "pandas_stddev = data['lidar'].std()\n",
    "\n",
    "print(stddev1)\n",
    "print(stddev2)\n",
    "print(pandas_stddev)"
   ]
  },
  {
   "cell_type": "code",
   "execution_count": null,
   "id": "mexican-saturn",
   "metadata": {},
   "outputs": [],
   "source": [
    "freqs = pd.DataFrame(data['lidar'].value_counts())\n",
    "freqs.transpose()"
   ]
  },
  {
   "cell_type": "code",
   "execution_count": null,
   "id": "powerful-kidney",
   "metadata": {},
   "outputs": [],
   "source": [
    "freqs['probs'] = freqs['lidar']/len(data['lidar'])\n",
    "freqs.transpose()"
   ]
  },
  {
   "cell_type": "code",
   "execution_count": null,
   "id": "rolled-jersey",
   "metadata": {},
   "outputs": [],
   "source": [
    "sum(freqs['probs'])"
   ]
  },
  {
   "cell_type": "code",
   "execution_count": null,
   "id": "returning-anthony",
   "metadata": {},
   "outputs": [],
   "source": [
    "freqs['probs'].sort_index().plot.bar()\n",
    "plt.show()"
   ]
  },
  {
   "cell_type": "code",
   "execution_count": null,
   "id": "aggressive-protocol",
   "metadata": {},
   "outputs": [],
   "source": [
    "def drawing():\n",
    "    return freqs.sample(n=1,weights='probs').index[0]\n",
    "\n",
    "drawing()"
   ]
  },
  {
   "cell_type": "code",
   "execution_count": null,
   "id": "exclusive-opportunity",
   "metadata": {},
   "outputs": [],
   "source": [
    "samples = [drawing() for i in range(len(data))]\n",
    "simlated = pd.DataFrame(samples, columns=['lidar'])\n",
    "p = simlated['lidar']\n",
    "p.hist(bins=max(p)-min(p),color='orange',align='left')\n",
    "plt.show()"
   ]
  },
  {
   "cell_type": "code",
   "execution_count": null,
   "id": "deluxe-canal",
   "metadata": {},
   "outputs": [],
   "source": [
    "def p(z, mu=209.7, dev=23.4):\n",
    "    return math.exp(-(z-mu)**2/(2*dev))/math.sqrt(2*math.pi*dev)"
   ]
  },
  {
   "cell_type": "code",
   "execution_count": null,
   "id": "continent-assessment",
   "metadata": {},
   "outputs": [],
   "source": [
    "zs=range(190,230)\n",
    "ys=[p(z)for z in zs]\n",
    "\n",
    "plt.plot(zs,ys)\n",
    "plt.show()"
   ]
  },
  {
   "cell_type": "code",
   "execution_count": null,
   "id": "ordered-joint",
   "metadata": {},
   "outputs": [],
   "source": [
    "def prob(z, width=0.5):\n",
    "    return width*(p(z-width)+p(z+width))\n",
    "\n",
    "zs=range(190,230)\n",
    "ys=[prob(z) for z in zs]\n",
    "\n",
    "plt.bar(zs,ys,color='red',alpha=0.3)\n",
    "f=freqs['probs'].sort_index()\n",
    "plt.bar(f.index,f.values,color='blue',alpha=0.3)\n",
    "plt.show()"
   ]
  },
  {
   "cell_type": "code",
   "execution_count": null,
   "id": "mighty-oasis",
   "metadata": {},
   "outputs": [],
   "source": [
    "from scipy.stats import norm\n",
    "\n",
    "zs=range(190,230)\n",
    "ys=[norm.pdf(z,mean1,stddev1) for z in zs]\n",
    "plt.plot(zs,ys)\n",
    "plt.show()"
   ]
  },
  {
   "cell_type": "code",
   "execution_count": null,
   "id": "facial-table",
   "metadata": {},
   "outputs": [],
   "source": [
    "zs=range(190,230)\n",
    "ys=[norm.cdf(z,mean1,stddev1) for z in zs]\n",
    "plt.plot(zs,ys,color='red')\n",
    "plt.show()"
   ]
  },
  {
   "cell_type": "code",
   "execution_count": null,
   "id": "peripheral-evidence",
   "metadata": {},
   "outputs": [],
   "source": [
    "zs=range(190,230)\n",
    "ys=[norm.cdf(z+0.5,mean1,stddev1)-norm.cdf(z-0.5,mean1,stddev1) for z in zs]\n",
    "plt.bar(zs,ys)\n",
    "plt.show()"
   ]
  },
  {
   "cell_type": "code",
   "execution_count": null,
   "id": "painted-clinton",
   "metadata": {},
   "outputs": [],
   "source": [
    "import random\n",
    "\n",
    "samples=[random.choice([1,2,3,4,5,6]) for i in range(10000)]\n",
    "sum(samples)/len(samples)"
   ]
  }
 ],
 "metadata": {
  "kernelspec": {
   "display_name": "Python 3",
   "language": "python",
   "name": "python3"
  },
  "language_info": {
   "codemirror_mode": {
    "name": "ipython",
    "version": 3
   },
   "file_extension": ".py",
   "mimetype": "text/x-python",
   "name": "python",
   "nbconvert_exporter": "python",
   "pygments_lexer": "ipython3",
   "version": "3.8.6"
  }
 },
 "nbformat": 4,
 "nbformat_minor": 5
}
