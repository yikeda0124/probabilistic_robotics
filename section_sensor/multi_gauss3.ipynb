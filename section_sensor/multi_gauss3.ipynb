{
 "cells": [
  {
   "cell_type": "code",
   "execution_count": null,
   "id": "insured-major",
   "metadata": {},
   "outputs": [],
   "source": [
    "import matplotlib.pyplot as plt\n",
    "import numpy as np\n",
    "from scipy.stats import multivariate_normal\n",
    "import math\n",
    "\n",
    "x, y = np.mgrid[0:200, 0:100]\n",
    "\n",
    "def multi_gauss(rec_mean, rec_cov):\n",
    "    z = np.zeros((200, 100))\n",
    "    for i in range(200):\n",
    "        for j in range(100):\n",
    "            z[i][j] = multivariate_normal.pdf([x[i][j], y[i][j]], mean=rec_mean, cov=rec_cov)\n",
    "    return z\n",
    "    \n",
    "plt.contour(x, y, multi_gauss([50, 50], [[50, 0],[0, 100]]))\n",
    "plt.contour(x, y, multi_gauss([100, 50], [[125, 0],[0, 25]]))\n",
    "plt.contour(x, y, multi_gauss([150, 50], [[100, -25*math.sqrt(3)],[-25*math.sqrt(3), 50]]))\n",
    "\n",
    "plt.gca().set_aspect('equal')\n",
    "plt.gca().set_xlabel('x')\n",
    "plt.gca().set_ylabel('y')\n",
    "plt.show()"
   ]
  },
  {
   "cell_type": "code",
   "execution_count": null,
   "id": "thrown-lover",
   "metadata": {},
   "outputs": [],
   "source": [
    "tmp = np.array([[100, -25*math.sqrt(3)],[-25*math.sqrt(3), 50]])\n",
    "eig_vals, eig_vec = np.linalg.eig(tmp)\n",
    "\n",
    "print('eig_vals:',eig_vals)\n",
    "print('eig_vec:',eig_vec)\n",
    "print('固有ベクトル1',eig_vec[:,0])\n",
    "print('固有ベクトル2',eig_vec[:,1])"
   ]
  },
  {
   "cell_type": "code",
   "execution_count": null,
   "id": "driven-storage",
   "metadata": {},
   "outputs": [],
   "source": [
    "plt.contour(x, y, multi_gauss([150, 50], [[100, -25*math.sqrt(3)],[-25*math.sqrt(3), 50]]))\n",
    "\n",
    "v = 2*math.sqrt(eig_vals[0])*eig_vec[:,0]\n",
    "plt.quiver(150,50,v[0],v[1],color='red',angles='xy',scale_units='xy',scale=1)\n",
    "\n",
    "v = 2*math.sqrt(eig_vals[1])*eig_vec[:,1]\n",
    "plt.quiver(150,50,v[0],v[1],color='red',angles='xy',scale_units='xy',scale=1)\n",
    "\n",
    "plt.gca().set_aspect('equal')\n",
    "plt.show()"
   ]
  },
  {
   "cell_type": "code",
   "execution_count": null,
   "id": "lucky-wonder",
   "metadata": {},
   "outputs": [],
   "source": [
    "V = eig_vec\n",
    "L = np.diag(eig_vals)\n",
    "\n",
    "print('分解したものを計算:\\n',V@L@np.linalg.inv(V))\n",
    "print('元の共分散行列:\\n',tmp)"
   ]
  }
 ],
 "metadata": {
  "kernelspec": {
   "display_name": "Python 3",
   "language": "python",
   "name": "python3"
  },
  "language_info": {
   "codemirror_mode": {
    "name": "ipython",
    "version": 3
   },
   "file_extension": ".py",
   "mimetype": "text/x-python",
   "name": "python",
   "nbconvert_exporter": "python",
   "pygments_lexer": "ipython3",
   "version": "3.8.6"
  }
 },
 "nbformat": 4,
 "nbformat_minor": 5
}
