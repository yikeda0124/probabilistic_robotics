{
 "cells": [
  {
   "cell_type": "code",
   "execution_count": null,
   "id": "upset-royalty",
   "metadata": {},
   "outputs": [],
   "source": [
    "#問題2.1\n",
    "import pandas as pd\n",
    "import matplotlib.pyplot as plt\n",
    "from scipy import stats\n",
    "import math\n",
    "import random\n",
    "\n",
    "data = pd.read_csv('sensor_data_200.txt', delimiter=' ',\n",
    "                  header=None, names=('date','time','ir','lidar'))\n",
    "\n",
    "data['lidar'].hist(bins=max(data['lidar'])-min(data['lidar']),align='left')\n",
    "plt.show()\n",
    "\n",
    "mean = sum(data['lidar'])/len(data['lidar'])\n",
    "var = data['lidar'].var()\n",
    "xs = range(190, 230)\n",
    "\n",
    "\n",
    "y = stats.norm.pdf(x=xs, loc=mean, scale=math.sqrt(var))\n",
    "plt.plot(xs, y)\n",
    "plt.show()\n",
    "\n",
    "\n",
    "def sample(prob):\n",
    "    return stats.norm.ppf(q=prob, loc=mean, scale=math.sqrt(var))\n",
    "    \n",
    "def sample_multi(n, unbiased=False):\n",
    "    samples = [sample(random.random()) for i in range(n)]\n",
    "    m = sum(samples)/len(samples)\n",
    "    if unbiased:\n",
    "        v = sum([(z-m)**2 for z in samples])/(len(samples)-1)\n",
    "    else:\n",
    "        v = sum([(z-m)**2 for z in samples])/len(samples)\n",
    "    return v\n",
    "\n",
    "print('母分散は', var)\n",
    "print('一回のサンプリング回数: 3')\n",
    "print('標本分散は', sample_multi(n=3))\n",
    "print('10000回サンプリング時の標本分散は', sum([sample_multi(n=3) for i in range(10000)])/10000)\n",
    "print('不偏分散は', sample_multi(n=3, unbiased = True))\n",
    "print('10000回サンプリング時の不偏分散は', sum([sample_multi(n=3, unbiased=True) for i in range(10000)])/10000)\n",
    "print()\n",
    "print('一回のサンプリング回数: 1000')\n",
    "print('標本分散は', sample_multi(n=1000))\n",
    "print('10000回サンプリング時の標本分散は', sum([sample_multi(n=1000) for i in range(10000)])/10000)\n",
    "print('不偏分散は', sample_multi(n=1000, unbiased = True))\n",
    "print('10000回サンプリング時の不偏分散は', sum([sample_multi(n=1000, unbiased=True) for i in range(10000)])/10000)"
   ]
  },
  {
   "cell_type": "code",
   "execution_count": null,
   "id": "balanced-tulsa",
   "metadata": {},
   "outputs": [],
   "source": []
  }
 ],
 "metadata": {
  "kernelspec": {
   "display_name": "Python 3",
   "language": "python",
   "name": "python3"
  },
  "language_info": {
   "codemirror_mode": {
    "name": "ipython",
    "version": 3
   },
   "file_extension": ".py",
   "mimetype": "text/x-python",
   "name": "python",
   "nbconvert_exporter": "python",
   "pygments_lexer": "ipython3",
   "version": "3.8.6"
  }
 },
 "nbformat": 4,
 "nbformat_minor": 5
}
