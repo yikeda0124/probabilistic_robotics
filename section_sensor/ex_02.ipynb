{
 "cells": [
  {
   "cell_type": "code",
   "execution_count": null,
   "id": "elegant-eugene",
   "metadata": {},
   "outputs": [],
   "source": [
    "#問題2.1\n",
    "import pandas as pd\n",
    "import matplotlib.pyplot as plt\n",
    "from scipy import stats\n",
    "import math\n",
    "import random\n",
    "\n",
    "data = pd.read_csv('sensor_data_200.txt', delimiter=' ',\n",
    "                  header=None, names=('date','time','ir','lidar'))\n",
    "\n",
    "data['lidar'].hist(bins=max(data['lidar'])-min(data['lidar']),align='left')\n",
    "plt.show()\n",
    "\n",
    "mean = sum(data['lidar'])/len(data['lidar'])\n",
    "var = data['lidar'].var()\n",
    "xs = range(190, 230)\n",
    "\n",
    "\n",
    "y = stats.norm.pdf(x=xs, loc=mean, scale=math.sqrt(var))\n",
    "plt.plot(xs, y1)\n",
    "plt.show()\n",
    "\n",
    "\n",
    "def sample(prob):\n",
    "    return stats.norm.ppf(q=prob, loc=mean, scale=math.sqrt(var))\n",
    "\n",
    "def sample3():\n",
    "    samples = [sample(random.random()) for i in range(3)]\n",
    "    m = sum(samples)/len(samples)\n",
    "    v = sum([(z-m)**2 for z in samples])/len(samples)\n",
    "    return v\n",
    "\n",
    "print('母分散は', var)\n",
    "print('標本分散は', sample3())\n",
    "print('10000回サンプリング時の標本分散は', sum([sample3() for i in range(10000)])/10000)"
   ]
  },
  {
   "cell_type": "code",
   "execution_count": null,
   "id": "boring-green",
   "metadata": {},
   "outputs": [],
   "source": []
  }
 ],
 "metadata": {
  "kernelspec": {
   "display_name": "Python 3",
   "language": "python",
   "name": "python3"
  },
  "language_info": {
   "codemirror_mode": {
    "name": "ipython",
    "version": 3
   },
   "file_extension": ".py",
   "mimetype": "text/x-python",
   "name": "python",
   "nbconvert_exporter": "python",
   "pygments_lexer": "ipython3",
   "version": "3.8.6"
  }
 },
 "nbformat": 4,
 "nbformat_minor": 5
}
