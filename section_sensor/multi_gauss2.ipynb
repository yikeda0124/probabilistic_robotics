{
 "cells": [
  {
   "cell_type": "code",
   "execution_count": null,
   "id": "weighted-mumbai",
   "metadata": {},
   "outputs": [],
   "source": [
    "import pandas as pd\n",
    "import seaborn as sns\n",
    "import matplotlib.pyplot as plt\n",
    "\n",
    "data = pd.read_csv('sensor_data_200.txt', delimiter=' ',\n",
    "                  header=None, names=('date','time','ir','lidar'))\n",
    "\n",
    "d = data.loc[:, ['ir', 'lidar']]"
   ]
  },
  {
   "cell_type": "code",
   "execution_count": null,
   "id": "employed-story",
   "metadata": {},
   "outputs": [],
   "source": [
    "sns.jointplot(d['ir'],d['lidar'],d,kind='kde')\n",
    "d.cov()"
   ]
  },
  {
   "cell_type": "code",
   "execution_count": null,
   "id": "protecting-brunswick",
   "metadata": {},
   "outputs": [],
   "source": [
    "import numpy as np\n",
    "from scipy.stats import multivariate_normal\n",
    "\n",
    "x, y = np.mgrid[280:340, 190:230]\n",
    "\n",
    "z = np.zeros((60, 40))\n",
    "for i in range(60):\n",
    "    for j in range(40):\n",
    "        z[i][j] = multivariate_normal.pdf([x[i][j], y[i][j]], mean=d.mean().values.T, cov=d.cov().values)\n",
    "        \n",
    "cont = plt.contour(x,y,z)\n",
    "cont.clabel(fmt='%1.1e')\n",
    "\n",
    "plt.show()"
   ]
  }
 ],
 "metadata": {
  "kernelspec": {
   "display_name": "Python 3",
   "language": "python",
   "name": "python3"
  },
  "language_info": {
   "codemirror_mode": {
    "name": "ipython",
    "version": 3
   },
   "file_extension": ".py",
   "mimetype": "text/x-python",
   "name": "python",
   "nbconvert_exporter": "python",
   "pygments_lexer": "ipython3",
   "version": "3.8.6"
  }
 },
 "nbformat": 4,
 "nbformat_minor": 5
}
