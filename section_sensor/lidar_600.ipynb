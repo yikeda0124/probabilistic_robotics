{
 "cells": [
  {
   "cell_type": "code",
   "execution_count": null,
   "id": "tired-definition",
   "metadata": {},
   "outputs": [],
   "source": [
    "import pandas as pd\n",
    "import matplotlib.pyplot as plt\n",
    "\n",
    "data = pd.read_csv('sensor_data_600.txt',delimiter=\" \",\n",
    "                  header=None,names=('date','time','ir','lidar'))\n",
    "data['lidar'].hist(bins=max(data['lidar'])-min(data['lidar']),align='left')\n",
    "plt.show()"
   ]
  },
  {
   "cell_type": "code",
   "execution_count": null,
   "id": "flying-nigeria",
   "metadata": {},
   "outputs": [],
   "source": [
    "data.lidar.plot()\n",
    "plt.show()"
   ]
  },
  {
   "cell_type": "code",
   "execution_count": null,
   "id": "straight-surfing",
   "metadata": {},
   "outputs": [],
   "source": [
    "data"
   ]
  },
  {
   "cell_type": "code",
   "execution_count": null,
   "id": "viral-lancaster",
   "metadata": {},
   "outputs": [],
   "source": [
    "data['hour']=[e//10000 for e in data.time]\n",
    "d=data.groupby('hour')\n",
    "d.lidar.mean().plot()\n",
    "plt.show()"
   ]
  },
  {
   "cell_type": "code",
   "execution_count": null,
   "id": "affiliated-gibraltar",
   "metadata": {},
   "outputs": [],
   "source": [
    "d.lidar.get_group(6).hist()\n",
    "d.lidar.get_group(14).hist()\n",
    "plt.show()"
   ]
  },
  {
   "cell_type": "code",
   "execution_count": null,
   "id": "acoustic-guarantee",
   "metadata": {},
   "outputs": [],
   "source": [
    "each_hour={i:d.lidar.get_group(i).value_counts().sort_index() for i in range(24)}\n",
    "freqs = pd.concat(each_hour, axis=1)\n",
    "freqs =freqs.fillna(0)\n",
    "probs = freqs/len(data)\n",
    "\n",
    "probs"
   ]
  },
  {
   "cell_type": "code",
   "execution_count": null,
   "id": "opponent-fusion",
   "metadata": {},
   "outputs": [],
   "source": [
    "import seaborn as sns\n",
    "\n",
    "sns.heatmap(probs)\n",
    "plt.show()"
   ]
  },
  {
   "cell_type": "code",
   "execution_count": null,
   "id": "strategic-exclusion",
   "metadata": {},
   "outputs": [],
   "source": [
    "sns.jointplot(data['hour'],data['lidar'],data,kind='kde')\n",
    "plt.show()"
   ]
  },
  {
   "cell_type": "code",
   "execution_count": null,
   "id": "historic-masters",
   "metadata": {},
   "outputs": [],
   "source": [
    "p_t=pd.DataFrame(probs.sum())\n",
    "p_t.plot()\n",
    "p_t.transpose()"
   ]
  },
  {
   "cell_type": "code",
   "execution_count": null,
   "id": "smoking-transition",
   "metadata": {},
   "outputs": [],
   "source": [
    "p_t.sum()"
   ]
  },
  {
   "cell_type": "code",
   "execution_count": null,
   "id": "incident-bullet",
   "metadata": {},
   "outputs": [],
   "source": [
    "p_z=pd.DataFrame(probs.transpose().sum())\n",
    "p_z.plot()\n",
    "p_z.transpose()"
   ]
  },
  {
   "cell_type": "code",
   "execution_count": null,
   "id": "independent-research",
   "metadata": {},
   "outputs": [],
   "source": [
    "p_z.sum()"
   ]
  },
  {
   "cell_type": "code",
   "execution_count": null,
   "id": "extra-invite",
   "metadata": {},
   "outputs": [],
   "source": [
    "cond_z_t = probs/p_t[0]\n",
    "cond_z_t"
   ]
  },
  {
   "cell_type": "code",
   "execution_count": null,
   "id": "cathedral-vegetable",
   "metadata": {},
   "outputs": [],
   "source": [
    "(cond_z_t[6]).plot.bar(color='blue',alpha=0.5)\n",
    "(cond_z_t[14]).plot.bar(color='orange',alpha=0.5)\n",
    "plt.show()"
   ]
  },
  {
   "cell_type": "code",
   "execution_count": null,
   "id": "hourly-technology",
   "metadata": {},
   "outputs": [],
   "source": [
    "cond_t_z=probs.transpose()/probs.transpose().sum()\n",
    "\n",
    "print('P(z=630)=',p_z[0][630])\n",
    "print('P(t=13)=',p_t[0][13])\n",
    "print('P(t=13|z=630)=',cond_t_z[630][13])\n",
    "print('Bayes P(z=630|t=13)=',cond_t_z[630][13]*p_z[0][630]/p_t[0][13])\n",
    "print('answer P(z=630|t=13)=',cond_z_t[13][630])"
   ]
  },
  {
   "cell_type": "code",
   "execution_count": null,
   "id": "loose-excerpt",
   "metadata": {},
   "outputs": [],
   "source": [
    "def bayes_estimation(sensor_value, current_estimation):\n",
    "    new_estimation = []\n",
    "    for i in range(24):\n",
    "        new_estimation.append(cond_z_t[i][sensor_value]*current_estimation[i])\n",
    "        \n",
    "    return new_estimation/sum(new_estimation)"
   ]
  },
  {
   "cell_type": "code",
   "execution_count": null,
   "id": "rough-command",
   "metadata": {},
   "outputs": [],
   "source": [
    "estimation = bayes_estimation(630, p_t[0])\n",
    "plt.plot(estimation)"
   ]
  },
  {
   "cell_type": "code",
   "execution_count": null,
   "id": "weighted-philip",
   "metadata": {},
   "outputs": [],
   "source": [
    "values_5=[630,632,636]\n",
    "\n",
    "estimation=p_t[0]\n",
    "for v in values_5:\n",
    "    estimation = bayes_estimation(v, estimation)\n",
    "    \n",
    "plt.plot(estimation)"
   ]
  },
  {
   "cell_type": "code",
   "execution_count": null,
   "id": "built-egyptian",
   "metadata": {},
   "outputs": [],
   "source": [
    "values_11=[617,624,619]\n",
    "\n",
    "estimation=p_t[0]\n",
    "for v in values_11:\n",
    "    estimation = bayes_estimation(v, estimation)\n",
    "    \n",
    "plt.plot(estimation)"
   ]
  },
  {
   "cell_type": "code",
   "execution_count": null,
   "id": "automated-fundamental",
   "metadata": {},
   "outputs": [],
   "source": []
  }
 ],
 "metadata": {
  "kernelspec": {
   "display_name": "Python 3",
   "language": "python",
   "name": "python3"
  },
  "language_info": {
   "codemirror_mode": {
    "name": "ipython",
    "version": 3
   },
   "file_extension": ".py",
   "mimetype": "text/x-python",
   "name": "python",
   "nbconvert_exporter": "python",
   "pygments_lexer": "ipython3",
   "version": "3.8.6"
  }
 },
 "nbformat": 4,
 "nbformat_minor": 5
}
