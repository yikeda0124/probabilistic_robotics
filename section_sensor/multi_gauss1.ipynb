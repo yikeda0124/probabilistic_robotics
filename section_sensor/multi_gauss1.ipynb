{
 "cells": [
  {
   "cell_type": "code",
   "execution_count": null,
   "id": "coated-buying",
   "metadata": {},
   "outputs": [],
   "source": [
    "import pandas as pd\n",
    "import seaborn as sns\n",
    "import matplotlib.pyplot as plt\n",
    "\n",
    "data = pd.read_csv('sensor_data_700.txt', delimiter=' ',\n",
    "                  header=None, names=('date','time','ir','lidar'))\n",
    "\n",
    "d = data[(data['time'] < 160000) & (data['time'] >= 120000)]\n",
    "d = d.loc[:,['ir','lidar']]\n",
    "\n",
    "sns.jointplot(d['ir'],d['lidar'],d,kind='kde')\n",
    "plt.show()"
   ]
  },
  {
   "cell_type": "code",
   "execution_count": null,
   "id": "compliant-review",
   "metadata": {},
   "outputs": [],
   "source": [
    "print('光センサの計測値の分散',d['ir'].var())\n",
    "print('LiDARの計測値の分散',d['lidar'].var())\n",
    "\n",
    "cov = ((d['ir']-d['ir'].mean())*(d['lidar']-d['lidar'].mean())).sum()/(len(d)-1)\n",
    "print('共分散',cov)"
   ]
  },
  {
   "cell_type": "code",
   "execution_count": null,
   "id": "amazing-extent",
   "metadata": {},
   "outputs": [],
   "source": [
    "d.cov()"
   ]
  },
  {
   "cell_type": "code",
   "execution_count": null,
   "id": "possible-spray",
   "metadata": {},
   "outputs": [],
   "source": [
    "from scipy.stats import multivariate_normal\n",
    "\n",
    "irlidar = multivariate_normal(mean=d.mean().values.T, cov=d.cov().values)"
   ]
  },
  {
   "cell_type": "code",
   "execution_count": null,
   "id": "sexual-stroke",
   "metadata": {},
   "outputs": [],
   "source": [
    "import numpy as np\n",
    "\n",
    "x,y = np.mgrid[0:40, 710:750]\n",
    "z = np.zeros((40, 40))\n",
    "for i in range(40):\n",
    "    for j in range(40):\n",
    "        z[i][j] = irlidar.pdf([x[i][j], y[i][j]])\n",
    "\n",
    "cont = plt.contour(x,y,z)\n",
    "cont.clabel(fmt='%1.1e')\n",
    "\n",
    "plt.show()"
   ]
  },
  {
   "cell_type": "code",
   "execution_count": null,
   "id": "important-adelaide",
   "metadata": {},
   "outputs": [],
   "source": [
    "c = d.cov().values + np.array([[0,20],[20,0]])\n",
    "tmp = multivariate_normal(mean=d.mean().values.T, cov=c)\n",
    "z = np.zeros((40, 40))\n",
    "for i in range(40):\n",
    "    for j in range(40):\n",
    "        z[i][j] = tmp.pdf([x[i][j], y[i][j]])\n",
    "cont = plt.contour(x, y, z)\n",
    "cont.clabel(fmt='%1.1e')\n",
    "\n",
    "plt.show()"
   ]
  },
  {
   "cell_type": "code",
   "execution_count": null,
   "id": "protective-machinery",
   "metadata": {},
   "outputs": [],
   "source": []
  }
 ],
 "metadata": {
  "kernelspec": {
   "display_name": "Python 3",
   "language": "python",
   "name": "python3"
  },
  "language_info": {
   "codemirror_mode": {
    "name": "ipython",
    "version": 3
   },
   "file_extension": ".py",
   "mimetype": "text/x-python",
   "name": "python",
   "nbconvert_exporter": "python",
   "pygments_lexer": "ipython3",
   "version": "3.8.6"
  }
 },
 "nbformat": 4,
 "nbformat_minor": 5
}
