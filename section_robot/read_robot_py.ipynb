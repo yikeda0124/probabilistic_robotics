{
 "cells": [
  {
   "cell_type": "code",
   "execution_count": null,
   "metadata": {},
   "outputs": [],
   "source": [
    "import sys\n",
    "sys.path.append('../scripts/')\n",
    "from ideal_robot import*"
   ]
  },
  {
   "cell_type": "code",
   "execution_count": null,
   "metadata": {},
   "outputs": [],
   "source": [
    "if __name__ == '__main__':\n",
    "    world = World(10, 0.1)\n",
    "    m = Map()\n",
    "    m.append_landmark(Landmark(2,-2))\n",
    "    m.append_landmark(Landmark(-1,-3))\n",
    "    m.append_landmark(Landmark(3,3))\n",
    "    straight = Agent(0.2, 0.0)\n",
    "    circling = Agent(0.2, 10.0/180*math.pi)\n",
    "    robot1 = IdealRobot(np.array([2,3,math.pi/6]).T, sensor=IdealCamera(m), agent=straight)\n",
    "    robot2 = IdealRobot(np.array([-2,-1,math.pi/5*6]).T, sensor=IdealCamera(m), agent=circling, color='red')\n",
    "    world.append(m)\n",
    "    world.append(robot1)\n",
    "    world.append(robot2)\n",
    "    world.draw()"
   ]
  }
 ],
 "metadata": {
  "kernelspec": {
   "display_name": "Python 3",
   "language": "python",
   "name": "python3"
  },
  "language_info": {
   "codemirror_mode": {
    "name": "ipython",
    "version": 3
   },
   "file_extension": ".py",
   "mimetype": "text/x-python",
   "name": "python",
   "nbconvert_exporter": "python",
   "pygments_lexer": "ipython3",
   "version": "3.8.6"
  }
 },
 "nbformat": 4,
 "nbformat_minor": 4
}
