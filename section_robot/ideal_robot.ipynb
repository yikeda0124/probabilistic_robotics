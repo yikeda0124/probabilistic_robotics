{
 "cells": [
  {
   "cell_type": "code",
   "execution_count": null,
   "metadata": {},
   "outputs": [],
   "source": [
    "import matplotlib\n",
    "matplotlib.use('nbagg')\n",
    "import matplotlib.animation as anm\n",
    "import matplotlib.pyplot as plt\n",
    "import math\n",
    "import matplotlib.patches as patches\n",
    "import numpy as np\n",
    "from IPython.display import HTML,display"
   ]
  },
  {
   "cell_type": "code",
   "execution_count": null,
   "metadata": {},
   "outputs": [],
   "source": [
    "class World:\n",
    "    def __init__(self, time_span, time_interval, debug=False):\n",
    "        self.objects = []\n",
    "        self.debug = debug\n",
    "        self.time_span = time_span\n",
    "        self.time_interval = time_interval\n",
    "    \n",
    "    def append(self, obj):\n",
    "        self.objects.append(obj)\n",
    "        \n",
    "    def draw(self):\n",
    "        fig = plt.figure(figsize =(8,8))\n",
    "        ax = fig.add_subplot(111)\n",
    "        ax.set_aspect('equal')\n",
    "        ax.set_xlim(-5,5)\n",
    "        ax.set_ylim(-5,5)\n",
    "        ax.set_xlabel('X',fontsize=20)\n",
    "        ax.set_ylabel('Y',fontsize=20)\n",
    "        \n",
    "        elems=[]\n",
    "        \n",
    "        if self.debug:\n",
    "            for i in range(1000):\n",
    "                self.one_step(i, elems, ax)\n",
    "        else:\n",
    "            self.ani = anm.FuncAnimation(fig, self.one_step, fargs=(elems,ax), \n",
    "                                         frames=int(self.time_span/self.time_interval)+1,\n",
    "                                         interval=int(self.time_interval*1000), repeat=False)\n",
    "            display(HTML(self.ani.to_html5_video()))\n",
    "            \n",
    "    def one_step(self, i, elems, ax):\n",
    "        while elems: elems.pop().remove()\n",
    "        elems.append(ax.text(-4.4, 4.5, 't= ' + str(i), fontsize=10))\n",
    "        for obj in self.objects:\n",
    "            obj.draw(ax, elems)\n",
    "            if hasattr(obj, 'one_step'): obj.one_step(self.time_interval)"
   ]
  },
  {
   "cell_type": "code",
   "execution_count": null,
   "metadata": {},
   "outputs": [],
   "source": [
    "class IdealRobot:\n",
    "    def __init__(self, pose, agent=None, color='black'):\n",
    "        self.pose = pose\n",
    "        self.r = 0.2\n",
    "        self.color = color\n",
    "        self.agent = agent\n",
    "        self.poses = [pose]\n",
    "    \n",
    "    def draw(self, ax, elems):\n",
    "        x, y, theta = self.pose\n",
    "        xn = x + self.r*math.cos(theta)\n",
    "        yn = y + self.r*math.sin(theta)\n",
    "        elems += ax.plot([x,xn],[y,yn],color=self.color)\n",
    "        c = patches.Circle(xy=(x,y),radius=self.r,fill=False,color=self.color)\n",
    "        elems.append(ax.add_patch(c))\n",
    "        \n",
    "        self.poses.append(self.pose)\n",
    "        elems += ax.plot([e[0] for e in self.poses],[e[1] for e in self.poses], linewidth=0.5, color='black')\n",
    "        \n",
    "    @classmethod\n",
    "    def state_transition(cls, nu, omega, time, pose):\n",
    "        t0 = pose[2]\n",
    "        if math.fabs(omega)<1e-10:\n",
    "            return pose + np.array([nu*math.cos(t0),nu*math.sin(t0),omega])*time\n",
    "        else:\n",
    "            return pose + np.array([nu/omega*(math.sin(t0+omega*time)-math.sin(t0)),\n",
    "                                   nu/omega*(-math.cos(t0+omega*time)+math.cos(t0)),\n",
    "                                   omega*time])\n",
    "        \n",
    "    def one_step(self, time_interval):\n",
    "        if not self.agent: return\n",
    "        nu,omega = self.agent.decision()\n",
    "        self.pose = self.state_transition(nu, omega, time_interval, self.pose)"
   ]
  },
  {
   "cell_type": "code",
   "execution_count": null,
   "metadata": {},
   "outputs": [],
   "source": [
    "class Agent:\n",
    "    def __init__ (self, nu, omega):\n",
    "        self.nu = nu\n",
    "        self.omega = omega\n",
    "    \n",
    "    def decision(self, observation=None):\n",
    "        return self.nu, self.omega"
   ]
  },
  {
   "cell_type": "code",
   "execution_count": null,
   "metadata": {},
   "outputs": [],
   "source": [
    "world = World(50, 1)\n",
    "straight = Agent(0.2, 0.0)\n",
    "circling = Agent(0.2, 10.0/180*math.pi)\n",
    "robot1 = IdealRobot(np.array([2,3,math.pi/6]).T, straight)\n",
    "robot2 = IdealRobot(np.array([-2,-1,math.pi/5*6]).T, circling, 'red')\n",
    "robot3 = IdealRobot(np.array([0,0,0]).T, color='blue')\n",
    "world.append(robot1)\n",
    "world.append(robot2)\n",
    "world.append(robot3)\n",
    "world.draw()"
   ]
  },
  {
   "cell_type": "code",
   "execution_count": null,
   "metadata": {},
   "outputs": [],
   "source": []
  },
  {
   "cell_type": "code",
   "execution_count": null,
   "metadata": {},
   "outputs": [],
   "source": []
  }
 ],
 "metadata": {
  "kernelspec": {
   "display_name": "Python 3",
   "language": "python",
   "name": "python3"
  },
  "language_info": {
   "codemirror_mode": {
    "name": "ipython",
    "version": 3
   },
   "file_extension": ".py",
   "mimetype": "text/x-python",
   "name": "python",
   "nbconvert_exporter": "python",
   "pygments_lexer": "ipython3",
   "version": "3.8.6"
  }
 },
 "nbformat": 4,
 "nbformat_minor": 4
}
